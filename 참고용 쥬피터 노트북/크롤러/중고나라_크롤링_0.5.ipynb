{
 "cells": [
  {
   "cell_type": "code",
   "execution_count": 46,
   "id": "a3c653a0",
   "metadata": {},
   "outputs": [],
   "source": [
    "import requests\n",
    "from bs4 import BeautifulSoup\n",
    "from tqdm import tqdm\n",
    "import re\n",
    "import numpy as np\n",
    "import pandas as pd\n",
    "from datetime import datetime"
   ]
  },
  {
   "cell_type": "code",
   "execution_count": 47,
   "id": "d583ff21",
   "metadata": {
    "scrolled": true
   },
   "outputs": [
    {
     "name": "stdout",
     "output_type": "stream",
     "text": [
      "50\n"
     ]
    },
    {
     "name": "stderr",
     "output_type": "stream",
     "text": [
      "100%|██████████| 50/50 [00:44<00:00,  1.12it/s]\n"
     ]
    }
   ],
   "source": [
    "link = []\n",
    "data = []\n",
    "contents_list = []\n",
    "\n",
    "#저장할 파일이름 지정\n",
    "filename = '갤럭시s22'\n",
    "\n",
    "for page in tqdm(range(int(input()))): #원하는 페이지만큼 입력\n",
    "#     query = '%BE%C6%C0%CC%C6%D0%B5%E5+%C7%C1%B7%CE+12.9+5%BC%BC%B4%EB' # << 아이패드 프로 12.9 5세대의 쿼리 다른 검색어는 별도 변환 필요\n",
    "#     query = '%B0%B6%B7%B0%BD%C3+%C5%C7+s6+lite' # << 갤럭시 탭 s6 lite 쿼리\n",
    "    query = '%B0%B6%B7%B0%BD%C3+s22'  #<<갤럭시 s22 쿼리\n",
    "\n",
    "    menuid = 339\n",
    "    # 메뉴아이디 749 = 테블릿, 339 = 휴대폰\n",
    "    \n",
    "    url = f\"https://cafe.naver.com/ArticleSearchList.nhn?search.clubid=10050146&search.menuid={menuid}&search.media=0&search.searchdate=all&search.exact=&search.include=&userDisplay=50&search.exclude=&search.onSale=1&search.option=3&search.sortBy=date&search.searchBy=1&search.searchBlockYn=0&search.includeAll=&search.query={query}&search.viewtype=title&search.page={1+page}\"\n",
    "\n",
    "    html = requests.get(url)\n",
    "    soup = BeautifulSoup(html.text, 'html.parser')\n",
    "    \n",
    "#     contents = soup.select('.inner_list .article') #단순 페이지 링크 구하는 태그\n",
    "    \n",
    "    id = soup.select('.inner_number') #판매글의 아이디 구하기\n",
    "    \n",
    "    for i in id: #판매글의 아이디를 통해 판매 정보을 포함한 jason 링크 리스트 만들기\n",
    "        contents_list.append(f'https://apis.naver.com/cafe-web/cafe-articleapi/v2/cafes/10050146/articles/{i.text}?query=&menuId={menuid}&useCafeId=true&requestFrom=A')\n",
    "\n",
    "    "
   ]
  },
  {
   "cell_type": "code",
   "execution_count": 48,
   "id": "6ed12548",
   "metadata": {},
   "outputs": [
    {
     "name": "stderr",
     "output_type": "stream",
     "text": [
      "  3%|▎         | 65/2348 [00:20<10:40,  3.56it/s]"
     ]
    },
    {
     "name": "stdout",
     "output_type": "stream",
     "text": [
      "error\n"
     ]
    },
    {
     "name": "stderr",
     "output_type": "stream",
     "text": [
      "  3%|▎         | 80/2348 [00:25<11:42,  3.23it/s]"
     ]
    },
    {
     "name": "stdout",
     "output_type": "stream",
     "text": [
      "error\n"
     ]
    },
    {
     "name": "stderr",
     "output_type": "stream",
     "text": [
      " 26%|██▌       | 612/2348 [03:20<09:18,  3.11it/s]"
     ]
    },
    {
     "name": "stdout",
     "output_type": "stream",
     "text": [
      "error\n"
     ]
    },
    {
     "name": "stderr",
     "output_type": "stream",
     "text": [
      " 70%|███████   | 1648/2348 [08:59<03:22,  3.45it/s]"
     ]
    },
    {
     "name": "stdout",
     "output_type": "stream",
     "text": [
      "error\n"
     ]
    },
    {
     "name": "stderr",
     "output_type": "stream",
     "text": [
      "100%|██████████| 2348/2348 [12:33<00:00,  3.12it/s]\n"
     ]
    }
   ],
   "source": [
    "junggo = []\n",
    "# json 파일에서 제목, 가격, 판매자, 설명 추출해 리스트로 저장\n",
    "for url in tqdm(contents_list):\n",
    "    response = requests.get(url)\n",
    "    data = response.json()\n",
    "    try:\n",
    "        title = data[\"result\"][\"article\"]['subject']\n",
    "        price = data[\"result\"][\"saleInfo\"]['price']\n",
    "        seller = data[\"result\"][\"article\"]['writer']['nick']\n",
    "        desc = BeautifulSoup(data[\"result\"][\"article\"][\"contentHtml\"], 'html.parser').text\n",
    "        #타임스탬프\n",
    "        date = datetime.fromtimestamp(data['result']['article']['writeDate']/1000).strftime('%y-%m-%d')\n",
    "        \n",
    "        junggo.append({'title' : title, 'price' : price, 'date' : date,'seller' : seller, 'desc' : desc})\n",
    "    \n",
    "    except:\n",
    "        print('error')\n",
    "        continue\n",
    "        #크롤링 도중 실시간으로 게시글이 삭제되는 문제 발견\n",
    "        #예외처리 시도\n",
    "    "
   ]
  },
  {
   "cell_type": "code",
   "execution_count": 49,
   "id": "bef01577",
   "metadata": {},
   "outputs": [
    {
     "data": {
      "text/html": [
       "<div>\n",
       "<style scoped>\n",
       "    .dataframe tbody tr th:only-of-type {\n",
       "        vertical-align: middle;\n",
       "    }\n",
       "\n",
       "    .dataframe tbody tr th {\n",
       "        vertical-align: top;\n",
       "    }\n",
       "\n",
       "    .dataframe thead th {\n",
       "        text-align: right;\n",
       "    }\n",
       "</style>\n",
       "<table border=\"1\" class=\"dataframe\">\n",
       "  <thead>\n",
       "    <tr style=\"text-align: right;\">\n",
       "      <th></th>\n",
       "      <th>title</th>\n",
       "      <th>price</th>\n",
       "      <th>date</th>\n",
       "      <th>seller</th>\n",
       "      <th>desc</th>\n",
       "    </tr>\n",
       "  </thead>\n",
       "  <tbody>\n",
       "    <tr>\n",
       "      <th>0</th>\n",
       "      <td>[매입]갤럭시Z폴드3 S22울트라(자급제폰,박스폰,당일개통폰.중고폰</td>\n",
       "      <td>1990000</td>\n",
       "      <td>22-07-06</td>\n",
       "      <td>24시간거래가능</td>\n",
       "      <td>\\n\\n\\n\\n\\n\\n\\n\\n\\n\\n\\n\\n\\n\\n\\n\\n\\n\\n\\n\\n​24시방문...</td>\n",
       "    </tr>\n",
       "    <tr>\n",
       "      <th>1</th>\n",
       "      <td>갤럭시 S22 울트라 1tb 미개봉 스카이블루</td>\n",
       "      <td>1450000</td>\n",
       "      <td>22-07-06</td>\n",
       "      <td>에눌사절이요</td>\n",
       "      <td>\\n\\n\\n\\n\\n\\n\\n\\n\\n👆 중고나라에서 5천원 상품권 드리는 거 아시나요?...</td>\n",
       "    </tr>\n",
       "    <tr>\n",
       "      <th>2</th>\n",
       "      <td>갤럭시s22울트라 256gb 그린판매합니다</td>\n",
       "      <td>930000</td>\n",
       "      <td>22-07-06</td>\n",
       "      <td>24시간판매중</td>\n",
       "      <td>\\n\\n\\n\\n\\n\\n\\n\\n\\n👆 중고나라에서 스타벅스&amp;amp;GS25 드리는 거...</td>\n",
       "    </tr>\n",
       "    <tr>\n",
       "      <th>3</th>\n",
       "      <td>갤럭시 s22플러스</td>\n",
       "      <td>700000</td>\n",
       "      <td>22-07-06</td>\n",
       "      <td>레몬스텔라</td>\n",
       "      <td>\\n\\n\\n\\n\\n\\n\\n\\n\\n👆 중고나라에서 5천원 상품권 드리는 거 아시나요?...</td>\n",
       "    </tr>\n",
       "    <tr>\n",
       "      <th>4</th>\n",
       "      <td>[매입] 갤럭시Z폴드3 S22 울트라,박스폰,자급제미개봉,당일개통삽니다</td>\n",
       "      <td>99999999</td>\n",
       "      <td>22-07-06</td>\n",
       "      <td>24시간폰매입합니다</td>\n",
       "      <td>\\n\\n\\n\\n\\n\\n\\n\\n\\n👆 위 중고나라 앱 다운로드 링크를 통해, 앱 다운...</td>\n",
       "    </tr>\n",
       "    <tr>\n",
       "      <th>...</th>\n",
       "      <td>...</td>\n",
       "      <td>...</td>\n",
       "      <td>...</td>\n",
       "      <td>...</td>\n",
       "      <td>...</td>\n",
       "    </tr>\n",
       "    <tr>\n",
       "      <th>2339</th>\n",
       "      <td>미개봉, 갤럭시 S22 , 팬텀화이트 , 256G , 필름,투명젤리케이스함께, 제조...</td>\n",
       "      <td>740000</td>\n",
       "      <td>22-04-21</td>\n",
       "      <td>당근이지당근</td>\n",
       "      <td>\\n\\n\\n\\n\\n\\n\\n\\n\\n미개봉, 갤럭시 S22 , 팬텀화이트 , 256G ...</td>\n",
       "    </tr>\n",
       "    <tr>\n",
       "      <th>2340</th>\n",
       "      <td>갤럭시s22 울트라 플러스/제트폴드3/제트플립3 삼성 전기종 매입!</td>\n",
       "      <td>1980000</td>\n",
       "      <td>22-04-20</td>\n",
       "      <td>일산매입업체1</td>\n",
       "      <td>\\n\\n\\n\\n\\n\\n\\n\\n\\n\\n\\n\\n\\n\\n\\n\\n\\n\\n\\n\\n​​\" 휴대...</td>\n",
       "    </tr>\n",
       "    <tr>\n",
       "      <th>2341</th>\n",
       "      <td>갤럭시S22플러스 256G 화이트/블랙/그린색상 단순개봉 미사용 자급제 단말기 판매...</td>\n",
       "      <td>880000</td>\n",
       "      <td>22-04-20</td>\n",
       "      <td>폰사요들2</td>\n",
       "      <td>\\n\\n\\n\\n\\n\\n\\n\\n\\n갤럭시S22플러스 256G 화이트/블랙/그린색상 미...</td>\n",
       "    </tr>\n",
       "    <tr>\n",
       "      <th>2342</th>\n",
       "      <td>갤럭시S22플러스 256G 화이트/블랙/그린색상 단순개봉 미사용 자급제 단말기 판매...</td>\n",
       "      <td>880000</td>\n",
       "      <td>22-04-20</td>\n",
       "      <td>폰사요들</td>\n",
       "      <td>\\n\\n\\n\\n\\n\\n\\n\\n\\n갤럭시S22플러스 256G 화이트/블랙/그린색상 미...</td>\n",
       "    </tr>\n",
       "    <tr>\n",
       "      <th>2343</th>\n",
       "      <td>갤럭시S22울트라 블랙/버건디/그린색상 256G 미사용 단순개봉 자급제 단말기 판매...</td>\n",
       "      <td>1070000</td>\n",
       "      <td>22-04-20</td>\n",
       "      <td>폰사요들2</td>\n",
       "      <td>\\n\\n\\n\\n\\n\\n\\n\\n\\n갤럭시S22울트라 블랙/버건디/그린색상 256G 미...</td>\n",
       "    </tr>\n",
       "  </tbody>\n",
       "</table>\n",
       "<p>2344 rows × 5 columns</p>\n",
       "</div>"
      ],
      "text/plain": [
       "                                                  title     price      date  \\\n",
       "0                 [매입]갤럭시Z폴드3 S22울트라(자급제폰,박스폰,당일개통폰.중고폰   1990000  22-07-06   \n",
       "1                             갤럭시 S22 울트라 1tb 미개봉 스카이블루   1450000  22-07-06   \n",
       "2                               갤럭시s22울트라 256gb 그린판매합니다    930000  22-07-06   \n",
       "3                                            갤럭시 s22플러스    700000  22-07-06   \n",
       "4               [매입] 갤럭시Z폴드3 S22 울트라,박스폰,자급제미개봉,당일개통삽니다  99999999  22-07-06   \n",
       "...                                                 ...       ...       ...   \n",
       "2339  미개봉, 갤럭시 S22 , 팬텀화이트 , 256G , 필름,투명젤리케이스함께, 제조...    740000  22-04-21   \n",
       "2340              갤럭시s22 울트라 플러스/제트폴드3/제트플립3 삼성 전기종 매입!   1980000  22-04-20   \n",
       "2341  갤럭시S22플러스 256G 화이트/블랙/그린색상 단순개봉 미사용 자급제 단말기 판매...    880000  22-04-20   \n",
       "2342  갤럭시S22플러스 256G 화이트/블랙/그린색상 단순개봉 미사용 자급제 단말기 판매...    880000  22-04-20   \n",
       "2343  갤럭시S22울트라 블랙/버건디/그린색상 256G 미사용 단순개봉 자급제 단말기 판매...   1070000  22-04-20   \n",
       "\n",
       "          seller                                               desc  \n",
       "0       24시간거래가능  \\n\\n\\n\\n\\n\\n\\n\\n\\n\\n\\n\\n\\n\\n\\n\\n\\n\\n\\n\\n​24시방문...  \n",
       "1         에눌사절이요  \\n\\n\\n\\n\\n\\n\\n\\n\\n👆 중고나라에서 5천원 상품권 드리는 거 아시나요?...  \n",
       "2        24시간판매중  \\n\\n\\n\\n\\n\\n\\n\\n\\n👆 중고나라에서 스타벅스&amp;GS25 드리는 거...  \n",
       "3          레몬스텔라  \\n\\n\\n\\n\\n\\n\\n\\n\\n👆 중고나라에서 5천원 상품권 드리는 거 아시나요?...  \n",
       "4     24시간폰매입합니다  \\n\\n\\n\\n\\n\\n\\n\\n\\n👆 위 중고나라 앱 다운로드 링크를 통해, 앱 다운...  \n",
       "...          ...                                                ...  \n",
       "2339      당근이지당근  \\n\\n\\n\\n\\n\\n\\n\\n\\n미개봉, 갤럭시 S22 , 팬텀화이트 , 256G ...  \n",
       "2340     일산매입업체1  \\n\\n\\n\\n\\n\\n\\n\\n\\n\\n\\n\\n\\n\\n\\n\\n\\n\\n\\n\\n​​\" 휴대...  \n",
       "2341       폰사요들2  \\n\\n\\n\\n\\n\\n\\n\\n\\n갤럭시S22플러스 256G 화이트/블랙/그린색상 미...  \n",
       "2342        폰사요들  \\n\\n\\n\\n\\n\\n\\n\\n\\n갤럭시S22플러스 256G 화이트/블랙/그린색상 미...  \n",
       "2343       폰사요들2  \\n\\n\\n\\n\\n\\n\\n\\n\\n갤럭시S22울트라 블랙/버건디/그린색상 256G 미...  \n",
       "\n",
       "[2344 rows x 5 columns]"
      ]
     },
     "execution_count": 49,
     "metadata": {},
     "output_type": "execute_result"
    }
   ],
   "source": [
    "#데이터프레임화\n",
    "junggo = pd.DataFrame(junggo)\n",
    "junggo"
   ]
  },
  {
   "cell_type": "code",
   "execution_count": 50,
   "id": "fdd99da9",
   "metadata": {},
   "outputs": [],
   "source": [
    "#설명 전처리\n",
    "junggo.reset_index(drop = True)\n",
    "junggo['desc'] = junggo['desc'] \\\n",
    ".replace(r'[^가-힣 ]', ' ', regex=True) \\\n",
    ".replace(\"'\", '') \\\n",
    ".replace(r'\\s+', ' ', regex=True) \\\n",
    ".str.strip() \\\n",
    ".str[:255] \\\n",
    ".replace({'위 중고나라 앱 다운로드 링크를 통해 앱 다운로드하여 판매 및 구매 게시글을 등록해 주세요':'', '중고나라에서 천원 상품권 드리는 거 아시나요 더보기 버튼을 눌러 확인해 주세요':'', '중고나라에서 스타벅스 드리는 거 아시나요 더보기 버튼을 눌러 확인해 주세요' : ''}, regex=True)\n",
    "junggo = junggo[junggo['desc'].str.strip().astype(bool)]"
   ]
  },
  {
   "cell_type": "code",
   "execution_count": 51,
   "id": "185f8d4c",
   "metadata": {},
   "outputs": [],
   "source": [
    "junggo = junggo.drop_duplicates(['desc'], keep = 'first', ignore_index = True)"
   ]
  },
  {
   "cell_type": "code",
   "execution_count": 52,
   "id": "83031dd7",
   "metadata": {},
   "outputs": [],
   "source": [
    "#매입 관련 데이터 단순삭제\n",
    "\n",
    "junggo = junggo[~junggo['seller'].str.contains('매입|삽니다|최고가')]\n",
    "junggo = junggo[~junggo['title'].str.contains('매입|삽니다|최고가')]\n",
    "junggo = junggo[~junggo['desc'].str.contains('매입|삽니다|최고가')]"
   ]
  },
  {
   "cell_type": "code",
   "execution_count": 53,
   "id": "f18aaf90",
   "metadata": {},
   "outputs": [],
   "source": [
    "junggo.reset_index(drop = True, inplace = True)"
   ]
  },
  {
   "cell_type": "code",
   "execution_count": 54,
   "id": "92e4b968",
   "metadata": {},
   "outputs": [
    {
     "data": {
      "text/html": [
       "<div>\n",
       "<style scoped>\n",
       "    .dataframe tbody tr th:only-of-type {\n",
       "        vertical-align: middle;\n",
       "    }\n",
       "\n",
       "    .dataframe tbody tr th {\n",
       "        vertical-align: top;\n",
       "    }\n",
       "\n",
       "    .dataframe thead th {\n",
       "        text-align: right;\n",
       "    }\n",
       "</style>\n",
       "<table border=\"1\" class=\"dataframe\">\n",
       "  <thead>\n",
       "    <tr style=\"text-align: right;\">\n",
       "      <th></th>\n",
       "      <th>title</th>\n",
       "      <th>price</th>\n",
       "      <th>date</th>\n",
       "      <th>seller</th>\n",
       "      <th>desc</th>\n",
       "    </tr>\n",
       "  </thead>\n",
       "  <tbody>\n",
       "    <tr>\n",
       "      <th>0</th>\n",
       "      <td>갤럭시 S22 울트라 1tb 미개봉 스카이블루</td>\n",
       "      <td>1450000</td>\n",
       "      <td>22-07-06</td>\n",
       "      <td>에눌사절이요</td>\n",
       "      <td>미개봉 자급제라 설명할게 없네요직거래 택배 가능에눌 바로 오실분만 연락주세요</td>\n",
       "    </tr>\n",
       "    <tr>\n",
       "      <th>1</th>\n",
       "      <td>갤럭시 s22플러스</td>\n",
       "      <td>700000</td>\n",
       "      <td>22-07-06</td>\n",
       "      <td>레몬스텔라</td>\n",
       "      <td>올해 월에 샀어요아이폰 쓰다가 삼성페이 쓰고싶어서 샀는데 아이폰이 더 편해서 팝니...</td>\n",
       "    </tr>\n",
       "    <tr>\n",
       "      <th>2</th>\n",
       "      <td>부산 갤럭시S22울트라 화이트 특S급 리퍼폰 센터올갈이 초꿀매</td>\n",
       "      <td>950000</td>\n",
       "      <td>22-07-06</td>\n",
       "      <td>부산중고폰1등폰고래</td>\n",
       "      <td>신뢰를 우선으로 거래하는 중고나라 파트너 제휴사 부산 중고폰 등 매장 폰고래입니다 ...</td>\n",
       "    </tr>\n",
       "    <tr>\n",
       "      <th>3</th>\n",
       "      <td>갤럭시 S22 청녹색 판매 (개인)</td>\n",
       "      <td>790000</td>\n",
       "      <td>22-07-06</td>\n",
       "      <td>도다파달</td>\n",
       "      <td>월 말에 샀는데 저랑 안맞아서 처분합니다 서울 강동구 둘둘사공 오삼육칠 월말에 이틀...</td>\n",
       "    </tr>\n",
       "    <tr>\n",
       "      <th>4</th>\n",
       "      <td>갤럭시 S22 화이트 256기가 SSS급 기기 팝니다</td>\n",
       "      <td>640000</td>\n",
       "      <td>22-07-06</td>\n",
       "      <td>꺄하핫82</td>\n",
       "      <td>사진과 동일한 제품 최초통화일 최초통신사 기스 없고 잔상 없는 급 기기 단품 사유심...</td>\n",
       "    </tr>\n",
       "    <tr>\n",
       "      <th>...</th>\n",
       "      <td>...</td>\n",
       "      <td>...</td>\n",
       "      <td>...</td>\n",
       "      <td>...</td>\n",
       "      <td>...</td>\n",
       "    </tr>\n",
       "    <tr>\n",
       "      <th>316</th>\n",
       "      <td>갤럭시 s22 플러스 풀박스 미개봉 새제품</td>\n",
       "      <td>880000</td>\n",
       "      <td>22-04-22</td>\n",
       "      <td>adaeng_s2</td>\n",
       "      <td>새제품 미개통 미개봉</td>\n",
       "    </tr>\n",
       "    <tr>\n",
       "      <th>317</th>\n",
       "      <td>갤럭시 s22울트라 256gb 다크그린 사용한적없는 새상품 판매합니다</td>\n",
       "      <td>1000000</td>\n",
       "      <td>22-04-22</td>\n",
       "      <td>hjwon0613</td>\n",
       "      <td>머칠전 선물받았는데 손이 작은 저로서는 넘 크고 무겁게 느껴져서 글 올려요어느통신사...</td>\n",
       "    </tr>\n",
       "    <tr>\n",
       "      <th>318</th>\n",
       "      <td>갤럭시 s22 울트라 256gb 다크그린 새정품 팝니다.</td>\n",
       "      <td>1000000</td>\n",
       "      <td>22-04-22</td>\n",
       "      <td>hjwon0613</td>\n",
       "      <td>며칠전 선물받았는데 제손이 작아서 핸드폰이 더 크게 느껴지고 무겁게 까지 느껴지고...</td>\n",
       "    </tr>\n",
       "    <tr>\n",
       "      <th>319</th>\n",
       "      <td>갤럭시 S22울트라 512 자급제폰 팝니다</td>\n",
       "      <td>1050000</td>\n",
       "      <td>22-04-22</td>\n",
       "      <td>큰물</td>\n",
       "      <td>기스없는 깨끗한 상태입니다직거래는 용인 기흥구 가능합니다</td>\n",
       "    </tr>\n",
       "    <tr>\n",
       "      <th>320</th>\n",
       "      <td>미개봉, 갤럭시 S22 , 팬텀화이트 , 256G , 필름,투명젤리케이스함께, 제조...</td>\n",
       "      <td>740000</td>\n",
       "      <td>22-04-21</td>\n",
       "      <td>당근이지당근</td>\n",
       "      <td>미개봉 갤럭시 팬텀화이트 필름 젤리케이스함께 제조년월 년 월 팝니다 상태 미개봉 사...</td>\n",
       "    </tr>\n",
       "  </tbody>\n",
       "</table>\n",
       "<p>321 rows × 5 columns</p>\n",
       "</div>"
      ],
      "text/plain": [
       "                                                 title    price      date  \\\n",
       "0                            갤럭시 S22 울트라 1tb 미개봉 스카이블루  1450000  22-07-06   \n",
       "1                                           갤럭시 s22플러스   700000  22-07-06   \n",
       "2                   부산 갤럭시S22울트라 화이트 특S급 리퍼폰 센터올갈이 초꿀매   950000  22-07-06   \n",
       "3                                  갤럭시 S22 청녹색 판매 (개인)   790000  22-07-06   \n",
       "4                        갤럭시 S22 화이트 256기가 SSS급 기기 팝니다   640000  22-07-06   \n",
       "..                                                 ...      ...       ...   \n",
       "316                            갤럭시 s22 플러스 풀박스 미개봉 새제품   880000  22-04-22   \n",
       "317             갤럭시 s22울트라 256gb 다크그린 사용한적없는 새상품 판매합니다  1000000  22-04-22   \n",
       "318                    갤럭시 s22 울트라 256gb 다크그린 새정품 팝니다.  1000000  22-04-22   \n",
       "319                            갤럭시 S22울트라 512 자급제폰 팝니다  1050000  22-04-22   \n",
       "320  미개봉, 갤럭시 S22 , 팬텀화이트 , 256G , 필름,투명젤리케이스함께, 제조...   740000  22-04-21   \n",
       "\n",
       "         seller                                               desc  \n",
       "0        에눌사절이요         미개봉 자급제라 설명할게 없네요직거래 택배 가능에눌 바로 오실분만 연락주세요  \n",
       "1         레몬스텔라   올해 월에 샀어요아이폰 쓰다가 삼성페이 쓰고싶어서 샀는데 아이폰이 더 편해서 팝니...  \n",
       "2    부산중고폰1등폰고래  신뢰를 우선으로 거래하는 중고나라 파트너 제휴사 부산 중고폰 등 매장 폰고래입니다 ...  \n",
       "3          도다파달  월 말에 샀는데 저랑 안맞아서 처분합니다 서울 강동구 둘둘사공 오삼육칠 월말에 이틀...  \n",
       "4         꺄하핫82  사진과 동일한 제품 최초통화일 최초통신사 기스 없고 잔상 없는 급 기기 단품 사유심...  \n",
       "..          ...                                                ...  \n",
       "316   adaeng_s2                                        새제품 미개통 미개봉  \n",
       "317   hjwon0613  머칠전 선물받았는데 손이 작은 저로서는 넘 크고 무겁게 느껴져서 글 올려요어느통신사...  \n",
       "318   hjwon0613   며칠전 선물받았는데 제손이 작아서 핸드폰이 더 크게 느껴지고 무겁게 까지 느껴지고...  \n",
       "319          큰물                    기스없는 깨끗한 상태입니다직거래는 용인 기흥구 가능합니다  \n",
       "320      당근이지당근  미개봉 갤럭시 팬텀화이트 필름 젤리케이스함께 제조년월 년 월 팝니다 상태 미개봉 사...  \n",
       "\n",
       "[321 rows x 5 columns]"
      ]
     },
     "execution_count": 54,
     "metadata": {},
     "output_type": "execute_result"
    }
   ],
   "source": [
    "junggo"
   ]
  },
  {
   "cell_type": "code",
   "execution_count": 55,
   "id": "7c359ead",
   "metadata": {},
   "outputs": [
    {
     "data": {
      "text/html": [
       "<div>\n",
       "<style scoped>\n",
       "    .dataframe tbody tr th:only-of-type {\n",
       "        vertical-align: middle;\n",
       "    }\n",
       "\n",
       "    .dataframe tbody tr th {\n",
       "        vertical-align: top;\n",
       "    }\n",
       "\n",
       "    .dataframe thead th {\n",
       "        text-align: right;\n",
       "    }\n",
       "</style>\n",
       "<table border=\"1\" class=\"dataframe\">\n",
       "  <thead>\n",
       "    <tr style=\"text-align: right;\">\n",
       "      <th></th>\n",
       "      <th>title</th>\n",
       "      <th>price</th>\n",
       "      <th>date</th>\n",
       "      <th>seller</th>\n",
       "      <th>desc</th>\n",
       "    </tr>\n",
       "  </thead>\n",
       "  <tbody>\n",
       "    <tr>\n",
       "      <th>0</th>\n",
       "      <td>갤럭시 S22 울트라 1tb 미개봉 스카이블루</td>\n",
       "      <td>1450000</td>\n",
       "      <td>22-07-06</td>\n",
       "      <td>에눌사절이요</td>\n",
       "      <td>미개봉 자급제라 설명할게 없네요직거래 택배 가능에눌 바로 오실분만 연락주세요</td>\n",
       "    </tr>\n",
       "    <tr>\n",
       "      <th>1</th>\n",
       "      <td>갤럭시 s22플러스</td>\n",
       "      <td>700000</td>\n",
       "      <td>22-07-06</td>\n",
       "      <td>레몬스텔라</td>\n",
       "      <td>올해 월에 샀어요아이폰 쓰다가 삼성페이 쓰고싶어서 샀는데 아이폰이 더 편해서 팝니...</td>\n",
       "    </tr>\n",
       "    <tr>\n",
       "      <th>2</th>\n",
       "      <td>부산 갤럭시S22울트라 화이트 특S급 리퍼폰 센터올갈이 초꿀매</td>\n",
       "      <td>950000</td>\n",
       "      <td>22-07-06</td>\n",
       "      <td>부산중고폰1등폰고래</td>\n",
       "      <td>신뢰를 우선으로 거래하는 중고나라 파트너 제휴사 부산 중고폰 등 매장 폰고래입니다 ...</td>\n",
       "    </tr>\n",
       "    <tr>\n",
       "      <th>3</th>\n",
       "      <td>갤럭시 S22 청녹색 판매 (개인)</td>\n",
       "      <td>790000</td>\n",
       "      <td>22-07-06</td>\n",
       "      <td>도다파달</td>\n",
       "      <td>월 말에 샀는데 저랑 안맞아서 처분합니다 서울 강동구 둘둘사공 오삼육칠 월말에 이틀...</td>\n",
       "    </tr>\n",
       "    <tr>\n",
       "      <th>4</th>\n",
       "      <td>갤럭시 S22 화이트 256기가 SSS급 기기 팝니다</td>\n",
       "      <td>640000</td>\n",
       "      <td>22-07-06</td>\n",
       "      <td>꺄하핫82</td>\n",
       "      <td>사진과 동일한 제품 최초통화일 최초통신사 기스 없고 잔상 없는 급 기기 단품 사유심...</td>\n",
       "    </tr>\n",
       "  </tbody>\n",
       "</table>\n",
       "</div>"
      ],
      "text/plain": [
       "                                title    price      date      seller  \\\n",
       "0           갤럭시 S22 울트라 1tb 미개봉 스카이블루  1450000  22-07-06      에눌사절이요   \n",
       "1                          갤럭시 s22플러스   700000  22-07-06       레몬스텔라   \n",
       "2  부산 갤럭시S22울트라 화이트 특S급 리퍼폰 센터올갈이 초꿀매   950000  22-07-06  부산중고폰1등폰고래   \n",
       "3                 갤럭시 S22 청녹색 판매 (개인)   790000  22-07-06        도다파달   \n",
       "4       갤럭시 S22 화이트 256기가 SSS급 기기 팝니다   640000  22-07-06       꺄하핫82   \n",
       "\n",
       "                                                desc  \n",
       "0         미개봉 자급제라 설명할게 없네요직거래 택배 가능에눌 바로 오실분만 연락주세요  \n",
       "1   올해 월에 샀어요아이폰 쓰다가 삼성페이 쓰고싶어서 샀는데 아이폰이 더 편해서 팝니...  \n",
       "2  신뢰를 우선으로 거래하는 중고나라 파트너 제휴사 부산 중고폰 등 매장 폰고래입니다 ...  \n",
       "3  월 말에 샀는데 저랑 안맞아서 처분합니다 서울 강동구 둘둘사공 오삼육칠 월말에 이틀...  \n",
       "4  사진과 동일한 제품 최초통화일 최초통신사 기스 없고 잔상 없는 급 기기 단품 사유심...  "
      ]
     },
     "execution_count": 55,
     "metadata": {},
     "output_type": "execute_result"
    }
   ],
   "source": [
    "junggo.to_csv(f\"{filename}_크롤링.csv\" ,encoding=\"utf-8\", index_label=False)\n",
    "junggo.head()"
   ]
  },
  {
   "cell_type": "code",
   "execution_count": null,
   "id": "9649ce61",
   "metadata": {},
   "outputs": [],
   "source": []
  },
  {
   "cell_type": "code",
   "execution_count": null,
   "id": "e289ed5e",
   "metadata": {},
   "outputs": [],
   "source": []
  },
  {
   "cell_type": "code",
   "execution_count": null,
   "id": "51baa0b6",
   "metadata": {},
   "outputs": [],
   "source": []
  },
  {
   "cell_type": "code",
   "execution_count": null,
   "id": "c5890a06",
   "metadata": {},
   "outputs": [],
   "source": []
  }
 ],
 "metadata": {
  "kernelspec": {
   "display_name": "Python 3.9.7",
   "language": "python",
   "name": "python3"
  },
  "language_info": {
   "codemirror_mode": {
    "name": "ipython",
    "version": 3
   },
   "file_extension": ".py",
   "mimetype": "text/x-python",
   "name": "python",
   "nbconvert_exporter": "python",
   "pygments_lexer": "ipython3",
   "version": "3.9.7"
  },
  "vscode": {
   "interpreter": {
    "hash": "ff4f85d6e04298634172ac5d8264e7e9b556b95639fe52ebb9425c4d4cba0c9c"
   }
  }
 },
 "nbformat": 4,
 "nbformat_minor": 5
}
